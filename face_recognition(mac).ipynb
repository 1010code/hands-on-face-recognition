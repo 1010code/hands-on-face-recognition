{
 "cells": [
  {
   "cell_type": "markdown",
   "metadata": {
    "id": "3hPeHc1zSnGJ"
   },
   "source": [
    "## 下載模型\n",
    "- shape_predictor_68_face_landmarks.dat (偵測臉部 68 個點)\n",
    "- dlib_face_recognition_resnet_model_v1.dat (人臉嵌入成 128 維的向量模型)"
   ]
  },
  {
   "cell_type": "code",
   "execution_count": 16,
   "metadata": {
    "colab": {
     "base_uri": "https://localhost:8080/"
    },
    "id": "ojqF_Az_0qnX",
    "outputId": "ab261cb6-2fb7-47db-f9ff-a109ecc618da"
   },
   "outputs": [
    {
     "name": "stdout",
     "output_type": "stream",
     "text": [
      "  % Total    % Received % Xferd  Average Speed   Time    Time     Time  Current\n",
      "                                 Dload  Upload   Total   Spent    Left  Speed\n",
      " 29 61.0M   29 18.0M    0     0   472k      0  0:02:12  0:00:39  0:01:33  866kk      0  0:04:10  0:00:03  0:04:07  249k^C\n"
     ]
    }
   ],
   "source": [
    "!curl -O http://dlib.net/files/shape_predictor_68_face_landmarks.dat.bz2\n",
    "!curl -O http://dlib.net/files/dlib_face_recognition_resnet_model_v1.dat.bz2"
   ]
  },
  {
   "cell_type": "code",
   "execution_count": 4,
   "metadata": {
    "id": "nWHoXMFZ2Kcw"
   },
   "outputs": [],
   "source": [
    "# 解壓縮兩個檔案\n",
    "!bzip2 -d ./shape_predictor_68_face_landmarks.dat.bz2\n",
    "!bzip2 -d ./dlib_face_recognition_resnet_model_v1.dat.bz2"
   ]
  },
  {
   "cell_type": "markdown",
   "metadata": {
    "id": "fiEdpwKuTTjl"
   },
   "source": [
    "## 安裝 Dlib\n",
    "Dlib 是一套基於 C++ 的機器學習工具包，藉由 Dlib 可以使用這些機器學習工具在任何的專案上，目前無論在機器人、嵌入設備、移動設備甚至是大型高效運算環境中都被廣泛使用。 \n",
    "\n",
    "> 安裝 CPU 版本的 Dlib"
   ]
  },
  {
   "cell_type": "code",
   "execution_count": 3,
   "metadata": {
    "colab": {
     "base_uri": "https://localhost:8080/"
    },
    "id": "BXR2pW8pM3AK",
    "outputId": "f5b7d31f-1abf-42f0-c0cc-be2c8fdd28bc"
   },
   "outputs": [
    {
     "name": "stdout",
     "output_type": "stream",
     "text": [
      "Uninstalling dlib-19.18.0:\n",
      "  Successfully uninstalled dlib-19.18.0\n"
     ]
    }
   ],
   "source": [
    "!sudo pip uninstall dlib -y"
   ]
  },
  {
   "cell_type": "code",
   "execution_count": null,
   "metadata": {
    "colab": {
     "base_uri": "https://localhost:8080/"
    },
    "id": "jA7B7OwbM8vG",
    "outputId": "40b32bae-a4ca-4c12-e7a4-44eb076c31da"
   },
   "outputs": [
    {
     "name": "stdout",
     "output_type": "stream",
     "text": [
      "/usr/local/lib/python3.6/dist-packages/pip/_internal/commands/install.py:283: UserWarning: Disabling all use of wheels due to the use of --build-options / --global-options / --install-options.\n",
      "  cmdoptions.check_install_build_global(options)\n",
      "Created temporary directory: /tmp/pip-ephem-wheel-cache-wdnvz3_x\n",
      "Created temporary directory: /tmp/pip-req-tracker-yrn4_ke4\n",
      "Created requirements tracker '/tmp/pip-req-tracker-yrn4_ke4'\n",
      "Created temporary directory: /tmp/pip-install-4gagafsr\n",
      "1 location(s) to search for versions of dlib:\n",
      "* https://pypi.org/simple/dlib/\n",
      "Getting page https://pypi.org/simple/dlib/\n",
      "Found index url https://pypi.org/simple\n",
      "Looking up \"https://pypi.org/simple/dlib/\" in the cache\n",
      "Request header has \"max_age\" as 0, cache bypassed\n",
      "Starting new HTTPS connection (1): pypi.org:443\n",
      "https://pypi.org:443 \"GET /simple/dlib/ HTTP/1.1\" 200 3926\n",
      "Updating cache with response from \"https://pypi.org/simple/dlib/\"\n",
      "Caching due to etag\n",
      "Analyzing links from page https://pypi.org/simple/dlib/\n",
      "  Skipping link: No binaries permitted for dlib: https://files.pythonhosted.org/packages/76/44/d5ea0c2cfbbce3c12841de8e29ba97e305c585b98c70f8e8f1cb69855f1f/dlib-18.17.100-cp27-none-win32.whl#sha256=23523a686049ff8b9a17f1e932e70c8c563ea77a2aecdc686db7632dd5742d35 (from https://pypi.org/simple/dlib/)\n",
      "  Skipping link: No binaries permitted for dlib: https://files.pythonhosted.org/packages/8b/b5/0a1f8e3cc709b845b2fb5592e0576c6194bd735519c779e6a98bf3b0f5c4/dlib-18.17.100-cp27-none-win_amd64.whl#sha256=ca70fc1eaf74176e50fa0fc90565dd7be14b7552a3d616c026099a8b2574155c (from https://pypi.org/simple/dlib/)\n",
      "  Skipping link: No binaries permitted for dlib: https://files.pythonhosted.org/packages/9e/b7/5c53db22828707d629e1a94326e14e1bb703b975352e4de427695e9c5d00/dlib-18.17.100-cp34-none-win32.whl#sha256=118039c043b1efc2d9e8e1c4b055b972358951d7770f9b61af59c8690053303f (from https://pypi.org/simple/dlib/)\n",
      "  Skipping link: No binaries permitted for dlib: https://files.pythonhosted.org/packages/66/1f/e1259d07929742e9df98e33bf315f48618809185a8a56a69cc2fd75031a2/dlib-18.17.100-cp34-none-win_amd64.whl#sha256=951b58000285d9ca41b1110af26cb96148d5059dc215fed8ce1df14c978809a2 (from https://pypi.org/simple/dlib/)\n",
      "  Skipping link: No binaries permitted for dlib: https://files.pythonhosted.org/packages/e5/41/0818d66f938601f000f28b97967ae6d9f33b43b8b96e092f1873f4a6860b/dlib-18.17.100-cp35-none-win32.whl#sha256=1acf5e51ef4e5af67cb2f2eda4df3eee772c7e476611803a96330886160e34a4 (from https://pypi.org/simple/dlib/)\n",
      "  Skipping link: No binaries permitted for dlib: https://files.pythonhosted.org/packages/30/91/ffef19ef1dcbe36fa1fd3d1e01e7cf8177a9edd1a13f51877f8f4623c132/dlib-18.17.100-cp35-none-win_amd64.whl#sha256=31d06be6c398a85edfaf496ce43beadd0270193cf76855f4a23cba2e6691e7f7 (from https://pypi.org/simple/dlib/)\n",
      "  Found link https://files.pythonhosted.org/packages/2e/63/801499a0aa588ac29b3400477848caa43e6cbb76af3c1568fcd4b0c21cfd/dlib-18.17.100.zip#sha256=cf73a059caee158f1b1cb18c1a21020bea19311afc6dbacb2417b05ff4bf89d5 (from https://pypi.org/simple/dlib/), version: 18.17.100\n",
      "  Found link https://files.pythonhosted.org/packages/98/04/a42d2b901f2c456f86f3c8ace36e3df64d21d7f368b1cac468489205e850/dlib-19.0.0.tar.gz#sha256=f12433b9202c0a6aa2e730fe9784f984082d439a0eee4cb57074b9c02cf596f4 (from https://pypi.org/simple/dlib/), version: 19.0.0\n",
      "  Skipping link: No binaries permitted for dlib: https://files.pythonhosted.org/packages/19/e8/737eae439647f953aa1afe2f25ee88ff3399eb3c936e809f63e197e14036/dlib-19.1.0-cp35-cp35m-win_amd64.whl#sha256=a59fcc5e87ff01365e6d0711c5e3ae7676d12b8777c7a3c367e869dc9f921013 (from https://pypi.org/simple/dlib/)\n",
      "  Found link https://files.pythonhosted.org/packages/24/e5/af6b0a964ff4b726146128ab4f9cd67293426357c7399effab8240d2b8be/dlib-19.1.0.tar.gz#sha256=4e7a38d823daf42675082d0341f039510562aba09ac7689aa56ceb53d7d9e7cb (from https://pypi.org/simple/dlib/), version: 19.1.0\n",
      "  Skipping link: No binaries permitted for dlib: https://files.pythonhosted.org/packages/33/e9/a93e58de8dc08c117c37be7598a850e9142dae3c6e385186956a35a621a5/dlib-19.3.1-cp35-cp35m-win_amd64.whl#sha256=e3b402628eca04575b69295c225180d703354ff468712e3252f1708bcc737499 (from https://pypi.org/simple/dlib/)\n",
      "  Found link https://files.pythonhosted.org/packages/f7/3b/0969f13461e6ad84db58a6885c00725a6d97ed8c16b78470d11cc5f1f5de/dlib-19.3.1.tar.gz#sha256=0f35259d9da0ed24e3aefb4ad475045d469ffbf6a256dfa26edf59bbd4ac8670 (from https://pypi.org/simple/dlib/), version: 19.3.1\n",
      "  Skipping link: No binaries permitted for dlib: https://files.pythonhosted.org/packages/38/18/92fc25855307bcf582a30034ae657fda205de4f29773323bb388e592f17c/dlib-19.4.0-cp35-cp35m-win_amd64.whl#sha256=67e7d86eedaef650788b058d9e086198ead583f5bb3041fd9a431ae50658e9f4 (from https://pypi.org/simple/dlib/)\n",
      "  Found link https://files.pythonhosted.org/packages/1d/76/0f91fde37a83a40cf27e6cabd900b975c2667c522a07ae38e31cda2fa486/dlib-19.4.0.tar.gz#sha256=c23c172dd42d7bf703392e2ba6414e986e8ff5e3be1f848f0f1d1733fc0895b8 (from https://pypi.org/simple/dlib/), version: 19.4.0\n",
      "  Found link https://files.pythonhosted.org/packages/82/68/3c471ddd73afb1378eee507d765bf186e724e8bc81eb44501a99345d89c7/dlib-19.5.0.tar.gz#sha256=b5896c7a51992441eac605395e07f2b31548376cadc1f392d93f69c821e6552e (from https://pypi.org/simple/dlib/), version: 19.5.0\n",
      "  Skipping link: No binaries permitted for dlib: https://files.pythonhosted.org/packages/24/ea/81e4fc5b978277899b1c1a63ff358f1f645f9369e59d9b5d9cc1d57c007c/dlib-19.5.1-cp36-cp36m-win_amd64.whl#sha256=7739535b76eb40cbcf49ba98d894894d06ee0b6e8f18a25fef2ab302fd5401c7 (from https://pypi.org/simple/dlib/)\n",
      "  Found link https://files.pythonhosted.org/packages/47/0c/4cef6abe23eb20ebbc9d7be66a15da21f3997f49a48b415d30a14e5586f0/dlib-19.5.1.tar.gz#sha256=d2920ec5ad68a621da9da37a50664bb8bebb19510a83630d5d7c4808419c9c88 (from https://pypi.org/simple/dlib/), version: 19.5.1\n",
      "  Skipping link: No binaries permitted for dlib: https://files.pythonhosted.org/packages/5b/fa/65bad0783fe624f463ec3c46c0bc062d281ee33c032b3047d99ffcefc9f5/dlib-19.6.0-cp36-cp36m-win_amd64.whl#sha256=cf352921cf8ec79f3ff85868f70e6397bcbd41a265acbb410f00bf9342e28d19 (from https://pypi.org/simple/dlib/)\n",
      "  Found link https://files.pythonhosted.org/packages/3f/2f/2f433c62b56842fc1c3b7855269ca95a6d9757caaa47d6b20f93f13f45c3/dlib-19.6.0.tar.gz#sha256=97c0804a2a86bf8343729b74eea0b6f4985e048353c71eda6b62cb9e8cc5e1fe (from https://pypi.org/simple/dlib/), version: 19.6.0\n",
      "  Skipping link: No binaries permitted for dlib: https://files.pythonhosted.org/packages/3c/97/e8e15bb7288c77085c130f9495f4a884a80a5c9f4634392cdae0aa8f53fe/dlib-19.6.1-cp36-cp36m-win_amd64.whl#sha256=aaa195c7820c3b301f74e5a7322d45101b2667ca8ccd5fc3085fd340e7cd3b68 (from https://pypi.org/simple/dlib/)\n",
      "  Found link https://files.pythonhosted.org/packages/e2/b3/8f689f96b6f2b1f66b6d8d0f91d5b1eb69a7f6a202869e64b0ff6ef74a06/dlib-19.6.1.tar.gz#sha256=43c30681eed2bbccb17a33558f84075150dfe2483aa3bbd9e3b9472b9eb4e212 (from https://pypi.org/simple/dlib/), version: 19.6.1\n",
      "  Skipping link: No binaries permitted for dlib: https://files.pythonhosted.org/packages/da/06/bd3e241c4eb0a662914b3b4875fc52dd176a9db0d4a2c915ac2ad8800e9e/dlib-19.7.0-cp36-cp36m-win_amd64.whl#sha256=d71c78dce0f7614e05b92518cf4ad654af9e8bfc9e15dea6af3c4dbb306bcd09 (from https://pypi.org/simple/dlib/)\n",
      "  Found link https://files.pythonhosted.org/packages/e2/79/6aba1d2b3f9fbcf34d583188d8ff6818952ea875dceedf7c34a869637573/dlib-19.7.0.tar.gz#sha256=8728d820094f8df4a7c66fa5d8b4c944921ae79c56a094e33f2684122133fe6d (from https://pypi.org/simple/dlib/), version: 19.7.0\n",
      "  Found link https://files.pythonhosted.org/packages/9b/f4/8d13ff6d9c8520f96760780375af135ae0832325607690d84a367706f1e7/dlib-19.8.0.tar.gz#sha256=f541e1c33f1f74c2b84f348f4e18fb890540cb3ca3916fc9a4f7034e77ed2376 (from https://pypi.org/simple/dlib/), version: 19.8.0\n",
      "  Skipping link: No binaries permitted for dlib: https://files.pythonhosted.org/packages/0e/ce/f8a3cff33ac03a8219768f0694c5d703c8e037e6aba2e865f9bae22ed63c/dlib-19.8.1-cp36-cp36m-win_amd64.whl#sha256=794994fa2c54e7776659fddb148363a5556468a6d5d46be8dad311722d54bfcf (from https://pypi.org/simple/dlib/)\n",
      "  Found link https://files.pythonhosted.org/packages/eb/99/6e2334b09bf48493b243a0fcb60a60659c847f86cecc1c2a7839609f88eb/dlib-19.8.1.tar.gz#sha256=a0dd66c4027bdcd5b1b385d51ae04d549f937c8939b546a4b937642e658715a1 (from https://pypi.org/simple/dlib/), version: 19.8.1\n",
      "  Found link https://files.pythonhosted.org/packages/92/7f/7711bf4bb25c7e8ff1c450bf397302d4b75e55abe6de54c75cc05a7b17db/dlib-19.8.2.tar.gz#sha256=3027573c53a4c797c829e38a9a161f224e1d600b7969290795cfedd28f8976dc (from https://pypi.org/simple/dlib/), version: 19.8.2\n",
      "  Found link https://files.pythonhosted.org/packages/23/7a/891d4c46cdf755fb69eec0f06a53033d3754bf68ace5342ad56aeb540aa1/dlib-19.9.0.tar.gz#sha256=33a9ec8b6e9fcf0538003d019d97968dc7601f2aaa60304a6146cf0f834259da (from https://pypi.org/simple/dlib/), version: 19.9.0\n",
      "  Found link https://files.pythonhosted.org/packages/54/ff/5781a11bdc0d1c90a813f3f66d460abf628e5114856a842d18d43f709a7a/dlib-19.10.0.tar.gz#sha256=d253701b7c17bf87e77055ca1fca551bda9e700fe90d61d27c72c5848237637e (from https://pypi.org/simple/dlib/), version: 19.10.0\n",
      "  Found link https://files.pythonhosted.org/packages/f2/02/dbffb7023494e1e39981ca65010b27501e844a0c8e79e1a3034ad8bf3734/dlib-19.12.0.tar.gz#sha256=3cd3a9cf0d8eae5f6bd7f4e87cf70eee1593e65a516f08a4712340a89f69d23e (from https://pypi.org/simple/dlib/), version: 19.12.0\n",
      "  Found link https://files.pythonhosted.org/packages/79/26/8ef2835606b4b37f704862b2db55edb89675daca0b82718244fca718cddd/dlib-19.13.0.tar.gz#sha256=8a6199a8903e625afa6b67be66b511b79bf2099981e0e0daae15c59c6a3e6c5e (from https://pypi.org/simple/dlib/), version: 19.13.0\n",
      "  Found link https://files.pythonhosted.org/packages/d5/5c/aa64510aa354d562ecba7edecd500b020280741140e5d91ff5ec1c6f8289/dlib-19.13.1.tar.gz#sha256=1d53739f4fa892874e61bb9602850d8d0afe8fbfb9262ff21981f594719384ed (from https://pypi.org/simple/dlib/), version: 19.13.1\n",
      "  Found link https://files.pythonhosted.org/packages/97/08/0d2b53b3845d562d01108e482ae45596a0d13bf58c63172df954ff0b53ef/dlib-19.14.0.tar.gz#sha256=88470836cb649b380f6f9eca054f08a94b115ee2845b1eccbf8a410efb2e3dc1 (from https://pypi.org/simple/dlib/), version: 19.14.0\n",
      "  Found link https://files.pythonhosted.org/packages/df/aa/6a9bb2a763107bb2606d6ee1aa65fcd3b51375a9ef6436e9c9280b0dd63c/dlib-19.15.0.tar.gz#sha256=ad5e9e6276d1486b8ef7383229379d759f155f7d2c703e67e3d84682fb2a93c5 (from https://pypi.org/simple/dlib/), version: 19.15.0\n",
      "  Found link https://files.pythonhosted.org/packages/35/8d/e4ddf60452e2fb1ce3164f774e68968b3f110f1cb4cd353235d56875799e/dlib-19.16.0.tar.gz#sha256=d1f167054cec10987094861468df9c2c63b07cd97693809bd22e634d62215b26 (from https://pypi.org/simple/dlib/), version: 19.16.0\n",
      "  Found link https://files.pythonhosted.org/packages/05/57/e8a8caa3c89a27f80bc78da39c423e2553f482a3705adc619176a3a24b36/dlib-19.17.0.tar.gz#sha256=92587c81b0165e933593f505fdf099dface0d0f8ec874b1d8655fc774598911f (from https://pypi.org/simple/dlib/), version: 19.17.0\n",
      "  Found link https://files.pythonhosted.org/packages/1e/62/aacb236d21fbd08148b1d517d58a9d80ea31bdcd386d26f21f8b23b1eb28/dlib-19.18.0.tar.gz#sha256=8ca127253a0ca82a3d847148515f82ff2c504ed77a6385ec4f38c7f8e5360860 (from https://pypi.org/simple/dlib/), version: 19.18.0\n",
      "  Found link https://files.pythonhosted.org/packages/63/92/05c3b98636661cb80d190a5a777dd94effcc14c0f6893222e5ca81e74fbc/dlib-19.19.0.tar.gz#sha256=d0eeaca07bc4c75973ad0f739a541d8fa4003af778f0dc1c2c595d470823819a (from https://pypi.org/simple/dlib/), version: 19.19.0\n",
      "  Found link https://files.pythonhosted.org/packages/f1/40/e407366816646bb452578997e6ca2140f004eec8f611e8512ee429ded2be/dlib-19.20.0.tar.gz#sha256=a3f5070df590c3f510dde2f4c84b1b20e3ef64a02932ed657da490834ecac7e4 (from https://pypi.org/simple/dlib/), version: 19.20.0\n",
      "  Found link https://files.pythonhosted.org/packages/a4/7b/2f7f29f460629a8143b2deea1911e2fb1d9d88d29bf645ba321461588e88/dlib-19.21.0.tar.gz#sha256=e79d8e14171b8446d6b5434d7dc3b44a23ca05c8f99266acaf731cc7b268edb6 (from https://pypi.org/simple/dlib/), version: 19.21.0\n",
      "  Found link https://files.pythonhosted.org/packages/99/2c/ef681c1c717ace11040f9e99fe22dafc843cdd6085eb6120e7ab2a5c662b/dlib-19.21.1.tar.gz#sha256=6c461e1e9e03d35a569163a41500381806a449bb34a06f18700bd7658aed8c8d (from https://pypi.org/simple/dlib/), version: 19.21.1\n",
      "Given no hashes to check 27 links for project 'dlib': discarding no candidates\n",
      "Using version 19.21.1 (newest of versions: 18.17.100, 19.0.0, 19.1.0, 19.3.1, 19.4.0, 19.5.0, 19.5.1, 19.6.0, 19.6.1, 19.7.0, 19.8.0, 19.8.1, 19.8.2, 19.9.0, 19.10.0, 19.12.0, 19.13.0, 19.13.1, 19.14.0, 19.15.0, 19.16.0, 19.17.0, 19.18.0, 19.19.0, 19.20.0, 19.21.0, 19.21.1)\n",
      "Collecting dlib\n",
      "  Created temporary directory: /tmp/pip-unpack-0jk1xr32\n",
      "  Looking up \"https://files.pythonhosted.org/packages/99/2c/ef681c1c717ace11040f9e99fe22dafc843cdd6085eb6120e7ab2a5c662b/dlib-19.21.1.tar.gz\" in the cache\n",
      "  No cache entry available\n",
      "  Starting new HTTPS connection (1): files.pythonhosted.org:443\n",
      "  https://files.pythonhosted.org:443 \"GET /packages/99/2c/ef681c1c717ace11040f9e99fe22dafc843cdd6085eb6120e7ab2a5c662b/dlib-19.21.1.tar.gz HTTP/1.1\" 200 3629372\n",
      "\u001b[?25l  Downloading https://files.pythonhosted.org/packages/99/2c/ef681c1c717ace11040f9e99fe22dafc843cdd6085eb6120e7ab2a5c662b/dlib-19.21.1.tar.gz (3.6MB)\n",
      "\u001b[K     |████████████████████████████████| 3.6MB 5.4MB/s eta 0:00:01  Ignoring unknown cache-control directive: immutable\n",
      "  Updating cache with response from \"https://files.pythonhosted.org/packages/99/2c/ef681c1c717ace11040f9e99fe22dafc843cdd6085eb6120e7ab2a5c662b/dlib-19.21.1.tar.gz\"\n",
      "  Caching due to etag\n",
      "\u001b[K     |████████████████████████████████| 3.6MB 5.4MB/s \n",
      "\u001b[?25h  Added dlib from https://files.pythonhosted.org/packages/99/2c/ef681c1c717ace11040f9e99fe22dafc843cdd6085eb6120e7ab2a5c662b/dlib-19.21.1.tar.gz#sha256=6c461e1e9e03d35a569163a41500381806a449bb34a06f18700bd7658aed8c8d to build tracker '/tmp/pip-req-tracker-yrn4_ke4'\n",
      "    Running setup.py (path:/tmp/pip-install-4gagafsr/dlib/setup.py) egg_info for package dlib\n",
      "    Running command python setup.py egg_info\n",
      "    running egg_info\n",
      "    creating /tmp/pip-install-4gagafsr/dlib/pip-egg-info/dlib.egg-info\n",
      "    writing /tmp/pip-install-4gagafsr/dlib/pip-egg-info/dlib.egg-info/PKG-INFO\n",
      "    writing dependency_links to /tmp/pip-install-4gagafsr/dlib/pip-egg-info/dlib.egg-info/dependency_links.txt\n",
      "    writing top-level names to /tmp/pip-install-4gagafsr/dlib/pip-egg-info/dlib.egg-info/top_level.txt\n",
      "    writing manifest file '/tmp/pip-install-4gagafsr/dlib/pip-egg-info/dlib.egg-info/SOURCES.txt'\n",
      "    package init file 'tools/python/dlib/__init__.py' not found (or not a regular file)\n",
      "    reading manifest file '/tmp/pip-install-4gagafsr/dlib/pip-egg-info/dlib.egg-info/SOURCES.txt'\n",
      "    reading manifest template 'MANIFEST.in'\n",
      "    no previously-included directories found matching 'tools/python/build*'\n",
      "    no previously-included directories found matching 'dlib/test'\n",
      "    writing manifest file '/tmp/pip-install-4gagafsr/dlib/pip-egg-info/dlib.egg-info/SOURCES.txt'\n",
      "  Source in /tmp/pip-install-4gagafsr/dlib has version 19.21.1, which satisfies requirement dlib from https://files.pythonhosted.org/packages/99/2c/ef681c1c717ace11040f9e99fe22dafc843cdd6085eb6120e7ab2a5c662b/dlib-19.21.1.tar.gz#sha256=6c461e1e9e03d35a569163a41500381806a449bb34a06f18700bd7658aed8c8d\n",
      "  Removed dlib from https://files.pythonhosted.org/packages/99/2c/ef681c1c717ace11040f9e99fe22dafc843cdd6085eb6120e7ab2a5c662b/dlib-19.21.1.tar.gz#sha256=6c461e1e9e03d35a569163a41500381806a449bb34a06f18700bd7658aed8c8d from build tracker '/tmp/pip-req-tracker-yrn4_ke4'\n",
      "Skipping wheel build for dlib, due to binaries being disabled for it.\n",
      "Installing collected packages: dlib\n",
      "  Created temporary directory: /tmp/pip-record-slencwe2\n",
      "    Running command /usr/bin/python3 -u -c 'import sys, setuptools, tokenize; sys.argv[0] = '\"'\"'/tmp/pip-install-4gagafsr/dlib/setup.py'\"'\"'; __file__='\"'\"'/tmp/pip-install-4gagafsr/dlib/setup.py'\"'\"';f=getattr(tokenize, '\"'\"'open'\"'\"', open)(__file__);code=f.read().replace('\"'\"'\\r\\n'\"'\"', '\"'\"'\\n'\"'\"');f.close();exec(compile(code, __file__, '\"'\"'exec'\"'\"'))' install --record /tmp/pip-record-slencwe2/install-record.txt --single-version-externally-managed --compile --no DLIB_USE_CUDA\n",
      "    running install\n",
      "    running build\n",
      "    running build_py\n",
      "    package init file 'tools/python/dlib/__init__.py' not found (or not a regular file)\n",
      "    running build_ext\n",
      "    Building extension for Python 3.6.9 (default, Oct  8 2020, 12:12:24)\n",
      "    Invoking CMake setup: 'cmake /tmp/pip-install-4gagafsr/dlib/tools/python -DCMAKE_LIBRARY_OUTPUT_DIRECTORY=/tmp/pip-install-4gagafsr/dlib/build/lib.linux-x86_64-3.6 -DPYTHON_EXECUTABLE=/usr/bin/python3 -DDLIB_USE_CUDA=no -DCMAKE_BUILD_TYPE=Release'\n",
      "    -- The C compiler identification is GNU 7.5.0\n",
      "    -- The CXX compiler identification is GNU 7.5.0\n",
      "    -- Check for working C compiler: /usr/bin/cc\n",
      "    -- Check for working C compiler: /usr/bin/cc -- works\n",
      "    -- Detecting C compiler ABI info\n",
      "    -- Detecting C compiler ABI info - done\n",
      "    -- Detecting C compile features\n",
      "    -- Detecting C compile features - done\n",
      "    -- Check for working CXX compiler: /usr/bin/c++\n",
      "    -- Check for working CXX compiler: /usr/bin/c++ -- works\n",
      "    -- Detecting CXX compiler ABI info\n",
      "    -- Detecting CXX compiler ABI info - done\n",
      "    -- Detecting CXX compile features\n",
      "    -- Detecting CXX compile features - done\n",
      "    -- Found PythonInterp: /usr/bin/python3 (found version \"3.6.9\")\n",
      "    -- Found PythonLibs: /usr/lib/x86_64-linux-gnu/libpython3.6m.so\n",
      "    -- Performing Test HAS_CPP14_FLAG\n",
      "    -- Performing Test HAS_CPP14_FLAG - Success\n",
      "    -- pybind11 v2.2.4\n",
      "    -- Using CMake version: 3.12.0\n",
      "    -- Compiling dlib version: 19.21.1\n",
      "    -- SSE4 instructions can be executed by the host processor.\n",
      "    -- AVX instructions can be executed by the host processor.\n",
      "    -- Enabling AVX instructions\n",
      "    -- Looking for pthread.h\n",
      "    -- Looking for pthread.h - found\n",
      "    -- Looking for pthread_create\n",
      "    -- Looking for pthread_create - not found\n",
      "    -- Looking for pthread_create in pthreads\n",
      "    -- Looking for pthread_create in pthreads - not found\n",
      "    -- Looking for pthread_create in pthread\n",
      "    -- Looking for pthread_create in pthread - found\n",
      "    -- Found Threads: TRUE\n",
      "    -- Looking for XOpenDisplay in /usr/lib/x86_64-linux-gnu/libX11.so;/usr/lib/x86_64-linux-gnu/libXext.so\n",
      "    -- Looking for XOpenDisplay in /usr/lib/x86_64-linux-gnu/libX11.so;/usr/lib/x86_64-linux-gnu/libXext.so - found\n",
      "    -- Looking for gethostbyname\n",
      "    -- Looking for gethostbyname - found\n",
      "    -- Looking for connect\n",
      "    -- Looking for connect - found\n",
      "    -- Looking for remove\n",
      "    -- Looking for remove - found\n",
      "    -- Looking for shmat\n",
      "    -- Looking for shmat - found\n",
      "    -- Looking for IceConnectionNumber in ICE\n",
      "    -- Looking for IceConnectionNumber in ICE - found\n",
      "    -- Found X11: /usr/lib/x86_64-linux-gnu/libX11.so\n",
      "    -- Found system copy of libpng: /usr/lib/x86_64-linux-gnu/libpng.so;/usr/lib/x86_64-linux-gnu/libz.so\n",
      "    -- Found system copy of libjpeg: /usr/lib/x86_64-linux-gnu/libjpeg.so\n",
      "    -- Searching for BLAS and LAPACK\n",
      "    -- Searching for BLAS and LAPACK\n",
      "    -- Found PkgConfig: /usr/bin/pkg-config (found version \"0.29.1\")\n",
      "    -- Checking for module 'cblas'\n",
      "    --   No package 'cblas' found\n",
      "    -- Checking for module 'lapack'\n",
      "    --   Found lapack, version 0.2.20+ds\n",
      "    -- Looking for cblas_ddot\n",
      "    -- Looking for cblas_ddot - not found\n",
      "    -- Looking for sys/types.h\n",
      "    -- Looking for sys/types.h - found\n",
      "    -- Looking for stdint.h\n",
      "    -- Looking for stdint.h - found\n",
      "    -- Looking for stddef.h\n",
      "    -- Looking for stddef.h - found\n",
      "    -- Check size of void*\n",
      "    -- Check size of void* - done\n",
      "    -- Found Intel MKL BLAS/LAPACK library\n",
      "    -- Looking for sgesv\n",
      "    -- Looking for sgesv - found\n",
      "    -- Looking for sgesv_\n",
      "    -- Looking for sgesv_ - found\n",
      "    -- C++11 activated.\n",
      "    -- Configuring done\n",
      "    -- Generating done\n",
      "    -- Build files have been written to: /tmp/pip-install-4gagafsr/dlib/build/temp.linux-x86_64-3.6\n",
      "    Invoking CMake build: 'cmake --build . --config Release -- -j2'\n",
      "    Scanning dependencies of target dlib\n",
      "    [  2%] Building CXX object dlib_build/CMakeFiles/dlib.dir/base64/base64_kernel_1.cpp.o\n",
      "    [  2%] Building CXX object dlib_build/CMakeFiles/dlib.dir/bigint/bigint_kernel_1.cpp.o\n",
      "    [  3%] Building CXX object dlib_build/CMakeFiles/dlib.dir/bigint/bigint_kernel_2.cpp.o\n",
      "    [  4%] Building CXX object dlib_build/CMakeFiles/dlib.dir/bit_stream/bit_stream_kernel_1.cpp.o\n",
      "    [  5%] Building CXX object dlib_build/CMakeFiles/dlib.dir/entropy_decoder/entropy_decoder_kernel_1.cpp.o\n",
      "    [  6%] Building CXX object dlib_build/CMakeFiles/dlib.dir/entropy_decoder/entropy_decoder_kernel_2.cpp.o\n",
      "    [  8%] Building CXX object dlib_build/CMakeFiles/dlib.dir/entropy_encoder/entropy_encoder_kernel_1.cpp.o\n",
      "    [  9%] Building CXX object dlib_build/CMakeFiles/dlib.dir/entropy_encoder/entropy_encoder_kernel_2.cpp.o\n",
      "    [ 10%] Building CXX object dlib_build/CMakeFiles/dlib.dir/md5/md5_kernel_1.cpp.o\n",
      "    [ 11%] Building CXX object dlib_build/CMakeFiles/dlib.dir/tokenizer/tokenizer_kernel_1.cpp.o\n",
      "    [ 12%] Building CXX object dlib_build/CMakeFiles/dlib.dir/unicode/unicode.cpp.o\n",
      "    [ 13%] Building CXX object dlib_build/CMakeFiles/dlib.dir/test_for_odr_violations.cpp.o\n",
      "    [ 14%] Building CXX object dlib_build/CMakeFiles/dlib.dir/sockets/sockets_kernel_1.cpp.o\n",
      "    [ 16%] Building CXX object dlib_build/CMakeFiles/dlib.dir/bsp/bsp.cpp.o\n",
      "    [ 17%] Building CXX object dlib_build/CMakeFiles/dlib.dir/dir_nav/dir_nav_kernel_1.cpp.o\n",
      "    [ 18%] Building CXX object dlib_build/CMakeFiles/dlib.dir/dir_nav/dir_nav_kernel_2.cpp.o\n",
      "    [ 19%] Building CXX object dlib_build/CMakeFiles/dlib.dir/dir_nav/dir_nav_extensions.cpp.o\n",
      "    [ 20%] Building CXX object dlib_build/CMakeFiles/dlib.dir/linker/linker_kernel_1.cpp.o\n",
      "    [ 21%] Building CXX object dlib_build/CMakeFiles/dlib.dir/logger/extra_logger_headers.cpp.o\n",
      "    [ 22%] Building CXX object dlib_build/CMakeFiles/dlib.dir/logger/logger_kernel_1.cpp.o\n",
      "    [ 24%] Building CXX object dlib_build/CMakeFiles/dlib.dir/logger/logger_config_file.cpp.o\n",
      "    [ 25%] Building CXX object dlib_build/CMakeFiles/dlib.dir/misc_api/misc_api_kernel_1.cpp.o\n",
      "    [ 26%] Building CXX object dlib_build/CMakeFiles/dlib.dir/misc_api/misc_api_kernel_2.cpp.o\n",
      "    [ 27%] Building CXX object dlib_build/CMakeFiles/dlib.dir/sockets/sockets_extensions.cpp.o\n",
      "    [ 28%] Building CXX object dlib_build/CMakeFiles/dlib.dir/sockets/sockets_kernel_2.cpp.o\n",
      "    [ 29%] Building CXX object dlib_build/CMakeFiles/dlib.dir/sockstreambuf/sockstreambuf.cpp.o\n",
      "    [ 31%] Building CXX object dlib_build/CMakeFiles/dlib.dir/sockstreambuf/sockstreambuf_unbuffered.cpp.o\n",
      "    [ 32%] Building CXX object dlib_build/CMakeFiles/dlib.dir/server/server_kernel.cpp.o\n",
      "    [ 33%] Building CXX object dlib_build/CMakeFiles/dlib.dir/server/server_iostream.cpp.o\n",
      "    [ 34%] Building CXX object dlib_build/CMakeFiles/dlib.dir/server/server_http.cpp.o\n",
      "    [ 35%] Building CXX object dlib_build/CMakeFiles/dlib.dir/threads/multithreaded_object_extension.cpp.o\n",
      "    [ 36%] Building CXX object dlib_build/CMakeFiles/dlib.dir/threads/threaded_object_extension.cpp.o\n",
      "    [ 37%] Building CXX object dlib_build/CMakeFiles/dlib.dir/threads/threads_kernel_1.cpp.o\n",
      "    [ 39%] Building CXX object dlib_build/CMakeFiles/dlib.dir/threads/threads_kernel_2.cpp.o\n",
      "    [ 40%] Building CXX object dlib_build/CMakeFiles/dlib.dir/threads/threads_kernel_shared.cpp.o\n",
      "    [ 41%] Building CXX object dlib_build/CMakeFiles/dlib.dir/threads/thread_pool_extension.cpp.o\n",
      "    [ 42%] Building CXX object dlib_build/CMakeFiles/dlib.dir/threads/async.cpp.o\n",
      "    [ 43%] Building CXX object dlib_build/CMakeFiles/dlib.dir/timer/timer.cpp.o\n",
      "    [ 44%] Building CXX object dlib_build/CMakeFiles/dlib.dir/stack_trace.cpp.o\n",
      "    [ 45%] Building CXX object dlib_build/CMakeFiles/dlib.dir/cuda/cpu_dlib.cpp.o\n",
      "    [ 47%] Building CXX object dlib_build/CMakeFiles/dlib.dir/cuda/tensor_tools.cpp.o\n",
      "    [ 48%] Building CXX object dlib_build/CMakeFiles/dlib.dir/data_io/image_dataset_metadata.cpp.o\n",
      "    [ 49%] Building CXX object dlib_build/CMakeFiles/dlib.dir/data_io/mnist.cpp.o\n",
      "    [ 50%] Building CXX object dlib_build/CMakeFiles/dlib.dir/data_io/cifar.cpp.o\n",
      "    [ 51%] Building CXX object dlib_build/CMakeFiles/dlib.dir/global_optimization/global_function_search.cpp.o\n",
      "    [ 52%] Building CXX object dlib_build/CMakeFiles/dlib.dir/filtering/kalman_filter.cpp.o\n",
      "    [ 54%] Building CXX object dlib_build/CMakeFiles/dlib.dir/svm/auto.cpp.o\n",
      "    [ 55%] Building CXX object dlib_build/CMakeFiles/dlib.dir/gui_widgets/fonts.cpp.o\n",
      "    [ 56%] Building CXX object dlib_build/CMakeFiles/dlib.dir/gui_widgets/widgets.cpp.o\n",
      "    [ 57%] Building CXX object dlib_build/CMakeFiles/dlib.dir/gui_widgets/drawable.cpp.o\n",
      "    [ 58%] Building CXX object dlib_build/CMakeFiles/dlib.dir/gui_widgets/canvas_drawing.cpp.o\n",
      "    [ 59%] Building CXX object dlib_build/CMakeFiles/dlib.dir/gui_widgets/style.cpp.o\n",
      "    [ 60%] Building CXX object dlib_build/CMakeFiles/dlib.dir/gui_widgets/base_widgets.cpp.o\n",
      "    [ 62%] Building CXX object dlib_build/CMakeFiles/dlib.dir/gui_core/gui_core_kernel_1.cpp.o\n",
      "    [ 63%] Building CXX object dlib_build/CMakeFiles/dlib.dir/gui_core/gui_core_kernel_2.cpp.o\n",
      "    [ 64%] Building CXX object dlib_build/CMakeFiles/dlib.dir/image_loader/png_loader.cpp.o\n",
      "    [ 65%] Building CXX object dlib_build/CMakeFiles/dlib.dir/image_saver/save_png.cpp.o\n",
      "    [ 66%] Building CXX object dlib_build/CMakeFiles/dlib.dir/image_loader/jpeg_loader.cpp.o\n",
      "    [ 67%] Building CXX object dlib_build/CMakeFiles/dlib.dir/image_saver/save_jpeg.cpp.o\n",
      "    [ 68%] Linking CXX static library libdlib.a\n",
      "    [ 68%] Built target dlib\n",
      "    Scanning dependencies of target _dlib_pybind11\n",
      "    [ 70%] Building CXX object CMakeFiles/_dlib_pybind11.dir/src/dlib.cpp.o\n",
      "    [ 71%] Building CXX object CMakeFiles/_dlib_pybind11.dir/src/matrix.cpp.o\n",
      "    [ 72%] Building CXX object CMakeFiles/_dlib_pybind11.dir/src/vector.cpp.o\n",
      "    [ 73%] Building CXX object CMakeFiles/_dlib_pybind11.dir/src/svm_c_trainer.cpp.o\n",
      "    [ 74%] Building CXX object CMakeFiles/_dlib_pybind11.dir/src/svm_rank_trainer.cpp.o\n",
      "    [ 75%] Building CXX object CMakeFiles/_dlib_pybind11.dir/src/decision_functions.cpp.o\n",
      "    [ 77%] Building CXX object CMakeFiles/_dlib_pybind11.dir/src/other.cpp.o\n",
      "    [ 78%] Building CXX object CMakeFiles/_dlib_pybind11.dir/src/basic.cpp.o\n",
      "    [ 79%] Building CXX object CMakeFiles/_dlib_pybind11.dir/src/cca.cpp.o\n",
      "    [ 80%] Building CXX object CMakeFiles/_dlib_pybind11.dir/src/sequence_segmenter.cpp.o\n",
      "    [ 81%] Building CXX object CMakeFiles/_dlib_pybind11.dir/src/svm_struct.cpp.o\n",
      "    [ 82%] Building CXX object CMakeFiles/_dlib_pybind11.dir/src/image.cpp.o\n",
      "    [ 83%] Building CXX object CMakeFiles/_dlib_pybind11.dir/src/image2.cpp.o\n",
      "    [ 85%] Building CXX object CMakeFiles/_dlib_pybind11.dir/src/image3.cpp.o\n",
      "    [ 86%] Building CXX object CMakeFiles/_dlib_pybind11.dir/src/image4.cpp.o\n",
      "    [ 87%] Building CXX object CMakeFiles/_dlib_pybind11.dir/src/rectangles.cpp.o\n",
      "    [ 88%] Building CXX object CMakeFiles/_dlib_pybind11.dir/src/object_detection.cpp.o\n",
      "    [ 89%] Building CXX object CMakeFiles/_dlib_pybind11.dir/src/shape_predictor.cpp.o\n",
      "    [ 90%] Building CXX object CMakeFiles/_dlib_pybind11.dir/src/correlation_tracker.cpp.o\n",
      "    [ 91%] Building CXX object CMakeFiles/_dlib_pybind11.dir/src/face_recognition.cpp.o\n",
      "    [ 93%] Building CXX object CMakeFiles/_dlib_pybind11.dir/src/cnn_face_detector.cpp.o\n",
      "    [ 94%] Building CXX object CMakeFiles/_dlib_pybind11.dir/src/global_optimization.cpp.o\n",
      "    [ 95%] Building CXX object CMakeFiles/_dlib_pybind11.dir/src/image_dataset_metadata.cpp.o\n",
      "    [ 96%] Building CXX object CMakeFiles/_dlib_pybind11.dir/src/numpy_returns.cpp.o\n"
     ]
    }
   ],
   "source": [
    "!sudo pip install -v --install-option=\"--no\" --install-option=\"DLIB_USE_CUDA\" dlib"
   ]
  },
  {
   "cell_type": "markdown",
   "metadata": {
    "id": "NdIU-mfoW0yZ"
   },
   "source": [
    "## 下載中文字體"
   ]
  },
  {
   "cell_type": "markdown",
   "metadata": {
    "id": "wfXflwvgf5He"
   },
   "source": [
    "下載台北思源黑體並命名taipei_sans_tc_beta.ttf，移至此資料夾\n",
    "\n",
    "點我[下載](https://drive.google.com/uc?id=1eGAsTN1HBpJAkeVM57_C7ccp7hbgSz3_&export=download)"
   ]
  },
  {
   "cell_type": "code",
   "execution_count": 53,
   "metadata": {},
   "outputs": [
    {
     "name": "stdout",
     "output_type": "stream",
     "text": [
      "  % Total    % Received % Xferd  Average Speed   Time    Time     Time  Current\n",
      "                                 Dload  Upload   Total   Spent    Left  Speed\n",
      "100 62615    0 62615    0     0   131k      0 --:--:-- --:--:-- --:--:--  131k\n"
     ]
    }
   ],
   "source": [
    "!curl 'https://drive.google.com/file/d/1-URARH9ZXgJe-JsmHiTCZN3LjCrxqDH8/view' --output simsun.ttc"
   ]
  },
  {
   "cell_type": "markdown",
   "metadata": {
    "id": "WrPaIjX6VIFL"
   },
   "source": [
    "## 建立人臉資料庫"
   ]
  },
  {
   "cell_type": "code",
   "execution_count": 12,
   "metadata": {
    "id": "tUdqNQl8V2Qu"
   },
   "outputs": [
    {
     "name": "stdout",
     "output_type": "stream",
     "text": [
      "mkdir: image: File exists\n",
      "  % Total    % Received % Xferd  Average Speed   Time    Time     Time  Current\n",
      "                                 Dload  Upload   Total   Spent    Left  Speed\n",
      "100 57570  100 57570    0     0  60985      0 --:--:-- --:--:-- --:--:-- 60920\n",
      "  % Total    % Received % Xferd  Average Speed   Time    Time     Time  Current\n",
      "                                 Dload  Upload   Total   Spent    Left  Speed\n",
      "100 58611  100 58611    0     0  55873      0  0:00:01  0:00:01 --:--:-- 55873\n",
      "  % Total    % Received % Xferd  Average Speed   Time    Time     Time  Current\n",
      "                                 Dload  Upload   Total   Spent    Left  Speed\n",
      "100 20284  100 20284    0     0  24263      0 --:--:-- --:--:-- --:--:-- 24234\n"
     ]
    }
   ],
   "source": [
    "# 建立image資料夾\n",
    "!mkdir image\n",
    "# 下載照片\n",
    "!curl https://i.imgur.com/2A7HbYN.jpg --output ./image/01_孫中山.jpg\n",
    "!curl https://i.imgur.com/OhN4uQd.jpg --output ./image/02_周杰倫.jpg\n",
    "!curl https://i.imgur.com/k5zXPIL.jpg --output ./image/03_昆凌.jpg"
   ]
  },
  {
   "cell_type": "markdown",
   "metadata": {
    "id": "mxaX_swqWsn4"
   },
   "source": [
    "## 下載測試照片"
   ]
  },
  {
   "cell_type": "code",
   "execution_count": 17,
   "metadata": {
    "id": "Q2v8wRoFrPdW"
   },
   "outputs": [
    {
     "name": "stdout",
     "output_type": "stream",
     "text": [
      "  % Total    % Received % Xferd  Average Speed   Time    Time     Time  Current\n",
      "                                 Dload  Upload   Total   Spent    Left  Speed\n",
      "100 16676  100 16676    0     0  18528      0 --:--:-- --:--:-- --:--:-- 18508\n",
      "^C\n",
      "  % Total    % Received % Xferd  Average Speed   Time    Time     Time  Current\n",
      "                                 Dload  Upload   Total   Spent    Left  Speed\n",
      "100 38078  100 38078    0     0  40725      0 --:--:-- --:--:-- --:--:-- 40681\n",
      "  % Total    % Received % Xferd  Average Speed   Time    Time     Time  Current\n",
      "                                 Dload  Upload   Total   Spent    Left  Speed\n",
      "100 38622  100 38622    0     0  39652      0 --:--:-- --:--:-- --:--:-- 39612\n",
      "  % Total    % Received % Xferd  Average Speed   Time    Time     Time  Current\n",
      "                                 Dload  Upload   Total   Spent    Left  Speed\n",
      "100 31980  100 31980    0     0  31852      0  0:00:01  0:00:01 --:--:-- 31884\n",
      "  % Total    % Received % Xferd  Average Speed   Time    Time     Time  Current\n",
      "                                 Dload  Upload   Total   Spent    Left  Speed\n",
      "100  297k  100  297k    0     0   177k      0  0:00:01  0:00:01 --:--:--  177k\n"
     ]
    }
   ],
   "source": [
    "!curl https://i.imgur.com/jsMub7H.jpg --output ./test_孫中山.jpg\n",
    "!curl https://i.imgur.com/9SnxL9K.jpg --output ./test_周杰倫.jpg\n",
    "!curl https://i.imgur.com/1gKWCAc.jpg --output ./test_周杰倫2.jpg\n",
    "!curl https://i.imgur.com/fEgjkG9.jpg --output ./test_昆凌.jpg\n",
    "!curl https://i.imgur.com/KNMhKWO.jpg --output ./test_昆凌+周杰倫.jpg\n",
    "!curl https://i.imgur.com/usMmNYO.jpg --output ./test_woman.jpg"
   ]
  },
  {
   "cell_type": "code",
   "execution_count": 47,
   "metadata": {
    "id": "_w0U3gvQzl8b"
   },
   "outputs": [
    {
     "name": "stdout",
     "output_type": "stream",
     "text": [
      "0.8534376638349858\n"
     ]
    },
    {
     "ename": "OSError",
     "evalue": "unknown file format",
     "output_type": "error",
     "traceback": [
      "\u001b[0;31m---------------------------------------------------------------------------\u001b[0m",
      "\u001b[0;31mOSError\u001b[0m                                   Traceback (most recent call last)",
      "\u001b[0;32m<ipython-input-47-e1fb096a4fed>\u001b[0m in \u001b[0;36m<module>\u001b[0;34m\u001b[0m\n\u001b[1;32m    104\u001b[0m   \u001b[0;31m# 轉成PIL圖片\u001b[0m\u001b[0;34m\u001b[0m\u001b[0;34m\u001b[0m\u001b[0;34m\u001b[0m\u001b[0m\n\u001b[1;32m    105\u001b[0m \u001b[0;34m\u001b[0m\u001b[0m\n\u001b[0;32m--> 106\u001b[0;31m     \u001b[0mfont\u001b[0m \u001b[0;34m=\u001b[0m \u001b[0mImageFont\u001b[0m\u001b[0;34m.\u001b[0m\u001b[0mtruetype\u001b[0m\u001b[0;34m(\u001b[0m\u001b[0;34m\"./simsun.ttf\"\u001b[0m\u001b[0;34m,\u001b[0m \u001b[0;36m18\u001b[0m\u001b[0;34m,\u001b[0m \u001b[0mencoding\u001b[0m\u001b[0;34m=\u001b[0m\u001b[0;34m\"utf-8\"\u001b[0m\u001b[0;34m)\u001b[0m\u001b[0;34m\u001b[0m\u001b[0;34m\u001b[0m\u001b[0m\n\u001b[0m\u001b[1;32m    107\u001b[0m     \u001b[0;32mif\u001b[0m \u001b[0mcd_sorted\u001b[0m\u001b[0;34m[\u001b[0m\u001b[0;36m0\u001b[0m\u001b[0;34m]\u001b[0m\u001b[0;34m[\u001b[0m\u001b[0;36m1\u001b[0m\u001b[0;34m]\u001b[0m \u001b[0;34m<\u001b[0m \u001b[0;36m0.45\u001b[0m\u001b[0;34m:\u001b[0m\u001b[0;34m\u001b[0m\u001b[0;34m\u001b[0m\u001b[0m\n\u001b[1;32m    108\u001b[0m         \u001b[0mdraw\u001b[0m\u001b[0;34m.\u001b[0m\u001b[0mrectangle\u001b[0m\u001b[0;34m(\u001b[0m\u001b[0;34m(\u001b[0m\u001b[0;34m(\u001b[0m\u001b[0mx1\u001b[0m\u001b[0;34m,\u001b[0m \u001b[0my1\u001b[0m\u001b[0;34m)\u001b[0m\u001b[0;34m,\u001b[0m \u001b[0;34m(\u001b[0m\u001b[0mx2\u001b[0m\u001b[0;34m,\u001b[0m \u001b[0my2\u001b[0m\u001b[0;34m)\u001b[0m\u001b[0;34m)\u001b[0m\u001b[0;34m,\u001b[0m \u001b[0moutline\u001b[0m\u001b[0;34m=\u001b[0m\u001b[0;34m(\u001b[0m\u001b[0;36m0\u001b[0m\u001b[0;34m,\u001b[0m \u001b[0;36m255\u001b[0m\u001b[0;34m,\u001b[0m \u001b[0;36m0\u001b[0m\u001b[0;34m)\u001b[0m\u001b[0;34m,\u001b[0m \u001b[0mwidth\u001b[0m\u001b[0;34m=\u001b[0m\u001b[0;36m4\u001b[0m\u001b[0;34m)\u001b[0m \u001b[0;31m# 在圖片利用Pillow module上畫出矩形框\u001b[0m\u001b[0;34m\u001b[0m\u001b[0;34m\u001b[0m\u001b[0m\n",
      "\u001b[0;32m/opt/anaconda3/lib/python3.7/site-packages/PIL/ImageFont.py\u001b[0m in \u001b[0;36mtruetype\u001b[0;34m(font, size, index, encoding, layout_engine)\u001b[0m\n\u001b[1;32m    653\u001b[0m \u001b[0;34m\u001b[0m\u001b[0m\n\u001b[1;32m    654\u001b[0m     \u001b[0;32mtry\u001b[0m\u001b[0;34m:\u001b[0m\u001b[0;34m\u001b[0m\u001b[0;34m\u001b[0m\u001b[0m\n\u001b[0;32m--> 655\u001b[0;31m         \u001b[0;32mreturn\u001b[0m \u001b[0mfreetype\u001b[0m\u001b[0;34m(\u001b[0m\u001b[0mfont\u001b[0m\u001b[0;34m)\u001b[0m\u001b[0;34m\u001b[0m\u001b[0;34m\u001b[0m\u001b[0m\n\u001b[0m\u001b[1;32m    656\u001b[0m     \u001b[0;32mexcept\u001b[0m \u001b[0mOSError\u001b[0m\u001b[0;34m:\u001b[0m\u001b[0;34m\u001b[0m\u001b[0;34m\u001b[0m\u001b[0m\n\u001b[1;32m    657\u001b[0m         \u001b[0;32mif\u001b[0m \u001b[0;32mnot\u001b[0m \u001b[0misPath\u001b[0m\u001b[0;34m(\u001b[0m\u001b[0mfont\u001b[0m\u001b[0;34m)\u001b[0m\u001b[0;34m:\u001b[0m\u001b[0;34m\u001b[0m\u001b[0;34m\u001b[0m\u001b[0m\n",
      "\u001b[0;32m/opt/anaconda3/lib/python3.7/site-packages/PIL/ImageFont.py\u001b[0m in \u001b[0;36mfreetype\u001b[0;34m(font)\u001b[0m\n\u001b[1;32m    650\u001b[0m \u001b[0;34m\u001b[0m\u001b[0m\n\u001b[1;32m    651\u001b[0m     \u001b[0;32mdef\u001b[0m \u001b[0mfreetype\u001b[0m\u001b[0;34m(\u001b[0m\u001b[0mfont\u001b[0m\u001b[0;34m)\u001b[0m\u001b[0;34m:\u001b[0m\u001b[0;34m\u001b[0m\u001b[0;34m\u001b[0m\u001b[0m\n\u001b[0;32m--> 652\u001b[0;31m         \u001b[0;32mreturn\u001b[0m \u001b[0mFreeTypeFont\u001b[0m\u001b[0;34m(\u001b[0m\u001b[0mfont\u001b[0m\u001b[0;34m,\u001b[0m \u001b[0msize\u001b[0m\u001b[0;34m,\u001b[0m \u001b[0mindex\u001b[0m\u001b[0;34m,\u001b[0m \u001b[0mencoding\u001b[0m\u001b[0;34m,\u001b[0m \u001b[0mlayout_engine\u001b[0m\u001b[0;34m)\u001b[0m\u001b[0;34m\u001b[0m\u001b[0;34m\u001b[0m\u001b[0m\n\u001b[0m\u001b[1;32m    653\u001b[0m \u001b[0;34m\u001b[0m\u001b[0m\n\u001b[1;32m    654\u001b[0m     \u001b[0;32mtry\u001b[0m\u001b[0;34m:\u001b[0m\u001b[0;34m\u001b[0m\u001b[0;34m\u001b[0m\u001b[0m\n",
      "\u001b[0;32m/opt/anaconda3/lib/python3.7/site-packages/PIL/ImageFont.py\u001b[0m in \u001b[0;36m__init__\u001b[0;34m(self, font, size, index, encoding, layout_engine)\u001b[0m\n\u001b[1;32m    192\u001b[0m                     \u001b[0;32mreturn\u001b[0m\u001b[0;34m\u001b[0m\u001b[0;34m\u001b[0m\u001b[0m\n\u001b[1;32m    193\u001b[0m             self.font = core.getfont(\n\u001b[0;32m--> 194\u001b[0;31m                 \u001b[0mfont\u001b[0m\u001b[0;34m,\u001b[0m \u001b[0msize\u001b[0m\u001b[0;34m,\u001b[0m \u001b[0mindex\u001b[0m\u001b[0;34m,\u001b[0m \u001b[0mencoding\u001b[0m\u001b[0;34m,\u001b[0m \u001b[0mlayout_engine\u001b[0m\u001b[0;34m=\u001b[0m\u001b[0mlayout_engine\u001b[0m\u001b[0;34m\u001b[0m\u001b[0;34m\u001b[0m\u001b[0m\n\u001b[0m\u001b[1;32m    195\u001b[0m             )\n\u001b[1;32m    196\u001b[0m         \u001b[0;32melse\u001b[0m\u001b[0;34m:\u001b[0m\u001b[0;34m\u001b[0m\u001b[0;34m\u001b[0m\u001b[0m\n",
      "\u001b[0;31mOSError\u001b[0m: unknown file format"
     ]
    }
   ],
   "source": [
    "import sys\n",
    "import os\n",
    "import dlib\n",
    "import glob\n",
    "import numpy as np\n",
    "from skimage import io\n",
    "import cv2\n",
    "import matplotlib.pyplot as plt\n",
    "from PIL import Image, ImageDraw, ImageFont\n",
    "import imutils\n",
    "import warnings\n",
    "warnings.filterwarnings('ignore')\n",
    "\n",
    "\n",
    "# 人臉68特徵點模型路徑\n",
    "predictor_path = './shape_predictor_68_face_landmarks.dat'\n",
    "\n",
    "# 人臉辨識模型路徑\n",
    "face_rec_model_path = './dlib_face_recognition_resnet_model_v1.dat'\n",
    "\n",
    "# 比對人臉圖片資料夾名稱\n",
    "faces_folder_path = './image'\n",
    "\n",
    "# 需要辨識的人臉圖片名稱\n",
    "img_path = './test_woman.jpg'\n",
    "\n",
    "# 載入人臉檢測器\n",
    "detector = dlib.get_frontal_face_detector()\n",
    "\n",
    "# 載入人臉特徵點檢測器\n",
    "sp =  dlib.shape_predictor(predictor_path)\n",
    "\n",
    "# 載入人臉辨識檢測器\n",
    "facerec = dlib.face_recognition_model_v1(face_rec_model_path)\n",
    "\n",
    "# 比對人臉描述子列表\n",
    "descriptors = []\n",
    "\n",
    "# 比對人臉名稱列表\n",
    "\n",
    "candidate = []\n",
    "# 針對比對資料夾裡每張圖片做比對:\n",
    "# 1.人臉偵測\n",
    "# 2.特徵點偵測\n",
    "# 3.取得描述子\n",
    "\n",
    "for f in glob.glob(os.path.join(faces_folder_path, '*.jpg')):\n",
    "    base = os.path.basename(f)\n",
    "\n",
    "    # 依序取得圖片檔案人名\n",
    "    candidate.append(os.path.splitext(base)[0])\n",
    "    img = io.imread(f)\n",
    "\n",
    "    # 1.人臉偵測\n",
    "    dets = detector(img, 1)\n",
    "\n",
    "    for (k, d) in enumerate(dets):\n",
    "        # 2.特徵點偵測\n",
    "        shape = sp(img, d)\n",
    "        # 3.取得描述子，128維特徵向量\n",
    "        face_descriptor = facerec.compute_face_descriptor(img, shape)\n",
    "\n",
    "        # 轉換numpy array格式\n",
    "        v = np.array(face_descriptor)\n",
    "        descriptors.append(v)\n",
    "# 針對需要辨識的人臉同樣進行處理\n",
    "\n",
    "img = io.imread(img_path)\n",
    "dets = detector(img, 1)\n",
    "dist = []\n",
    "pil_image = Image.fromarray(img)\n",
    "draw = ImageDraw.Draw(pil_image)\n",
    "for (k, d) in enumerate(dets):\n",
    "    dist = []\n",
    "    shape = sp(img, d)\n",
    "    face_descriptor = facerec.compute_face_descriptor(img, shape)\n",
    "    d_test = np.array(face_descriptor)\n",
    "\n",
    "    x1 = d.left()\n",
    "    y1 = d.top()\n",
    "    x2 = d.right()\n",
    "    y2 = d.bottom()\n",
    "\n",
    "  # 計算歐式距離\n",
    "\n",
    "    for i in descriptors:\n",
    "        dist_ = np.linalg.norm(i - d_test)\n",
    "        dist.append(dist_)\n",
    "\n",
    "  # 將比對人名和比對出來的歐式距離組成一個dict\n",
    "\n",
    "    c_d = dict(zip(candidate, dist))\n",
    "\n",
    "  # 根據歐式距離由小到大排序\n",
    "\n",
    "    cd_sorted = sorted(c_d.items(), key=lambda d: d[1])\n",
    "\n",
    "  # 取得最短距離就為辨識出的人名\n",
    "\n",
    "    rec_name = cd_sorted[0][0]\n",
    "    print(cd_sorted[0][1])\n",
    "\n",
    "  # 將辨識出的人名印到圖片上面\n",
    "  # 轉成PIL圖片\n",
    "    \n",
    "    font = ImageFont.truetype(\"./simsun.ttf\", 18, encoding=\"utf-8\")\n",
    "    if cd_sorted[0][1] < 0.45:\n",
    "        draw.rectangle(((x1, y1), (x2, y2)), outline=(0, 255, 0), width=4) # 在圖片利用Pillow module上畫出矩形框                  \n",
    "        draw.rectangle(((x1, y2  - 10), (x2, y2+10)), fill=(0, 255, 0), outline=(0, 255, 0)) # 人臉辨識下方邊框(加大下方label)              \n",
    "        draw.text((x1 + 6, y2 - 10), rec_name, fill=(0, 0, 0),font=font)  # 人名\n",
    "    else:\n",
    "        draw.rectangle(((x1, y1), (x2, y2)), outline=(255, 0, 0), width=4) # 在圖片利用Pillow module上畫出矩形框                  \n",
    "        draw.rectangle(((x1, y2  - 20), (x2, y2)), fill=(255, 0, 0), outline=(255, 0, 0)) # 人臉辨識下方邊框(加大下方label)              \n",
    "        draw.text((x1 + 6, y2 - 20), 'Unknown', fill=(0, 0, 0),font=font)  # 人名\n",
    "\n",
    "plt.imshow(pil_image)\n"
   ]
  },
  {
   "cell_type": "code",
   "execution_count": null,
   "metadata": {
    "id": "JdfZIXgUy5z4"
   },
   "outputs": [],
   "source": []
  }
 ],
 "metadata": {
  "colab": {
   "collapsed_sections": [],
   "name": "face.ipynb",
   "provenance": [],
   "toc_visible": true
  },
  "kernelspec": {
   "display_name": "Python 3",
   "language": "python",
   "name": "python3"
  },
  "language_info": {
   "codemirror_mode": {
    "name": "ipython",
    "version": 3
   },
   "file_extension": ".py",
   "mimetype": "text/x-python",
   "name": "python",
   "nbconvert_exporter": "python",
   "pygments_lexer": "ipython3",
   "version": "3.7.6"
  }
 },
 "nbformat": 4,
 "nbformat_minor": 4
}
